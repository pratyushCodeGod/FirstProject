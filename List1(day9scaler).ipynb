{
  "nbformat": 4,
  "nbformat_minor": 0,
  "metadata": {
    "colab": {
      "provenance": [],
      "authorship_tag": "ABX9TyPkLp2y+TZ2k+NTe90IF7uo",
      "include_colab_link": true
    },
    "kernelspec": {
      "name": "python3",
      "display_name": "Python 3"
    },
    "language_info": {
      "name": "python"
    }
  },
  "cells": [
    {
      "cell_type": "markdown",
      "metadata": {
        "id": "view-in-github",
        "colab_type": "text"
      },
      "source": [
        "<a href=\"https://colab.research.google.com/github/pratyushCodeGod/FirstProject/blob/main/List1(day9scaler).ipynb\" target=\"_parent\"><img src=\"https://colab.research.google.com/assets/colab-badge.svg\" alt=\"Open In Colab\"/></a>"
      ]
    },
    {
      "cell_type": "code",
      "execution_count": 1,
      "metadata": {
        "colab": {
          "base_uri": "https://localhost:8080/"
        },
        "id": "o3YK2Ld5P_Ng",
        "outputId": "9f29df6a-48fb-42de-ffe1-04710a801c54"
      },
      "outputs": [
        {
          "output_type": "stream",
          "name": "stdout",
          "text": [
            "['Intersteller', 'The dark Knight', 'Godfather']\n"
          ]
        }
      ],
      "source": [
        "movies = ['Intersteller','The dark Knight','Godfather']\n",
        "print(movies)"
      ]
    },
    {
      "cell_type": "code",
      "source": [
        "movies = ['Intersteller','The dark Knight','Godfather',['name','harsh']]\n",
        "# print(movies)\n",
        "print(movies[3][0])"
      ],
      "metadata": {
        "colab": {
          "base_uri": "https://localhost:8080/"
        },
        "id": "a_3QfYGJQ31a",
        "outputId": "70deac0e-51ce-4cea-b49d-ff5545114968"
      },
      "execution_count": 11,
      "outputs": [
        {
          "output_type": "stream",
          "name": "stdout",
          "text": [
            "name\n"
          ]
        }
      ]
    },
    {
      "cell_type": "code",
      "source": [
        "runs = [20,30,2,4,3,2]\n",
        "print(len(runs))"
      ],
      "metadata": {
        "colab": {
          "base_uri": "https://localhost:8080/"
        },
        "id": "eOFKX15iRDPb",
        "outputId": "a8d29355-1271-43b2-b7b5-ded2d7fd6425"
      },
      "execution_count": 4,
      "outputs": [
        {
          "output_type": "stream",
          "name": "stdout",
          "text": [
            "6\n"
          ]
        }
      ]
    },
    {
      "cell_type": "code",
      "source": [
        "runs = [20,30,2,4,3,2]\n",
        "# print(len(runs))\n",
        "print(runs[3])\n",
        "print(runs[0])"
      ],
      "metadata": {
        "colab": {
          "base_uri": "https://localhost:8080/"
        },
        "id": "8dPcDfSuRZvf",
        "outputId": "2d6d9984-dc37-40cc-a2df-1c77acae245e"
      },
      "execution_count": 7,
      "outputs": [
        {
          "output_type": "stream",
          "name": "stdout",
          "text": [
            "4\n",
            "20\n"
          ]
        }
      ]
    },
    {
      "cell_type": "code",
      "source": [
        "runs = [20,30,2,4,3,2]\n",
        "print(len(runs))\n",
        "# print(runs[3])\n",
        "# print(runs[10])"
      ],
      "metadata": {
        "colab": {
          "base_uri": "https://localhost:8080/"
        },
        "id": "H8NybyXZR3bE",
        "outputId": "e0c73a92-09e9-4dd5-ca8e-33f1aa9d036a"
      },
      "execution_count": 12,
      "outputs": [
        {
          "output_type": "stream",
          "name": "stdout",
          "text": [
            "6\n"
          ]
        }
      ]
    },
    {
      "cell_type": "code",
      "source": [
        "runs = [20,30,2,4,3,2]\n",
        "print(runs[-3])\n",
        "print(runs[-3+2])"
      ],
      "metadata": {
        "colab": {
          "base_uri": "https://localhost:8080/"
        },
        "id": "oBW90R6mUBvv",
        "outputId": "a90d4d42-8cc6-4851-d75c-607f51fd34d0"
      },
      "execution_count": 14,
      "outputs": [
        {
          "output_type": "stream",
          "name": "stdout",
          "text": [
            "4\n",
            "2\n"
          ]
        }
      ]
    },
    {
      "cell_type": "code",
      "source": [
        "runs[-1] = 40\n",
        "runs[-3] = 7\n",
        "print(runs)"
      ],
      "metadata": {
        "colab": {
          "base_uri": "https://localhost:8080/"
        },
        "id": "4jTYphcmUagn",
        "outputId": "9162ca4d-d052-4125-cd7a-3c3b461d3090"
      },
      "execution_count": 17,
      "outputs": [
        {
          "output_type": "stream",
          "name": "stdout",
          "text": [
            "[20, 30, 2, 7, 3, 40]\n"
          ]
        }
      ]
    },
    {
      "cell_type": "code",
      "source": [
        "print(runs[2]+runs[-2]+runs[-4])"
      ],
      "metadata": {
        "colab": {
          "base_uri": "https://localhost:8080/"
        },
        "id": "IwgzeQowVD-A",
        "outputId": "8f849454-7f9a-465a-df08-dc20d52f7bbe"
      },
      "execution_count": 19,
      "outputs": [
        {
          "output_type": "stream",
          "name": "stdout",
          "text": [
            "7\n"
          ]
        }
      ]
    },
    {
      "cell_type": "code",
      "source": [
        "l = [10,20,30]\n",
        "l.append(80)\n",
        "print(l)"
      ],
      "metadata": {
        "colab": {
          "base_uri": "https://localhost:8080/"
        },
        "id": "W4ZLMKNLVS5I",
        "outputId": "60af7fb6-3b49-4f62-c545-a48cf17f2214"
      },
      "execution_count": 20,
      "outputs": [
        {
          "output_type": "stream",
          "name": "stdout",
          "text": [
            "[10, 20, 30, 80]\n"
          ]
        }
      ]
    },
    {
      "cell_type": "code",
      "source": [
        "l.append(100)\n",
        "print(l)"
      ],
      "metadata": {
        "colab": {
          "base_uri": "https://localhost:8080/"
        },
        "id": "veE2KgPVVemq",
        "outputId": "7d0ddc4f-a436-400a-cca7-0fcc4695f76a"
      },
      "execution_count": 22,
      "outputs": [
        {
          "output_type": "stream",
          "name": "stdout",
          "text": [
            "[10, 20, 30, 80, 100, 100]\n"
          ]
        }
      ]
    },
    {
      "cell_type": "code",
      "source": [
        "l.insert(1,200)\n",
        "print(l)"
      ],
      "metadata": {
        "colab": {
          "base_uri": "https://localhost:8080/"
        },
        "id": "cSlSPd4wVotw",
        "outputId": "6eb566ac-eb24-4895-fceb-0aaf971f4f5b"
      },
      "execution_count": 23,
      "outputs": [
        {
          "output_type": "stream",
          "name": "stdout",
          "text": [
            "[10, 200, 20, 30, 80, 100, 100]\n"
          ]
        }
      ]
    },
    {
      "cell_type": "code",
      "source": [
        "a = [10,20,30]\n",
        "b = [20,3,4]\n",
        "a.extend(b)\n",
        "print(a)"
      ],
      "metadata": {
        "colab": {
          "base_uri": "https://localhost:8080/"
        },
        "id": "nC8iQMoNXucz",
        "outputId": "a0e79c0c-9c1e-416e-f942-b7e55eb4367e"
      },
      "execution_count": 24,
      "outputs": [
        {
          "output_type": "stream",
          "name": "stdout",
          "text": [
            "[10, 20, 30, 20, 3, 4]\n"
          ]
        }
      ]
    },
    {
      "cell_type": "code",
      "source": [
        "c= [1,3,56,4]\n",
        "c = a+c\n",
        "print(c)"
      ],
      "metadata": {
        "colab": {
          "base_uri": "https://localhost:8080/"
        },
        "id": "3nowc1dpYLWE",
        "outputId": "a4c3dc95-257a-418c-ec16-807002540438"
      },
      "execution_count": 25,
      "outputs": [
        {
          "output_type": "stream",
          "name": "stdout",
          "text": [
            "[10, 20, 30, 20, 3, 4, 1, 3, 56, 4]\n"
          ]
        }
      ]
    },
    {
      "cell_type": "code",
      "source": [
        "#remove removes the first occurance\n",
        "c.remove(20)\n",
        "print(l)"
      ],
      "metadata": {
        "colab": {
          "base_uri": "https://localhost:8080/"
        },
        "id": "yTQ74rF6bUaL",
        "outputId": "8b93cdd8-d665-4885-88bc-2028b0def41d"
      },
      "execution_count": 28,
      "outputs": [
        {
          "output_type": "stream",
          "name": "stdout",
          "text": [
            "[10, 200, 30, 80, 100, 100]\n"
          ]
        }
      ]
    },
    {
      "cell_type": "code",
      "source": [
        "c.pop(2)\n",
        "print(c)"
      ],
      "metadata": {
        "colab": {
          "base_uri": "https://localhost:8080/"
        },
        "id": "NFpH2e0rbz4F",
        "outputId": "9e4a1e92-8258-4dc6-91b8-dcbc418993d4"
      },
      "execution_count": 29,
      "outputs": [
        {
          "output_type": "stream",
          "name": "stdout",
          "text": [
            "[10, 30, 3, 4, 1, 3, 56, 4]\n"
          ]
        }
      ]
    },
    {
      "cell_type": "code",
      "source": [],
      "metadata": {
        "id": "X5L4ep7KeuHz"
      },
      "execution_count": null,
      "outputs": []
    },
    {
      "cell_type": "code",
      "source": [
        "c.remove(3)\n",
        "print(c)"
      ],
      "metadata": {
        "colab": {
          "base_uri": "https://localhost:8080/"
        },
        "id": "pjkvh3jscGKj",
        "outputId": "b9ea210d-2d66-4cac-9f63-93df7f8a3c67"
      },
      "execution_count": 31,
      "outputs": [
        {
          "output_type": "stream",
          "name": "stdout",
          "text": [
            "[10, 30, 4, 1, 56, 4]\n"
          ]
        }
      ]
    },
    {
      "cell_type": "code",
      "source": [
        "c.pop(1)\n",
        "print(c)"
      ],
      "metadata": {
        "colab": {
          "base_uri": "https://localhost:8080/"
        },
        "id": "fXfV3ANecPHU",
        "outputId": "4a11435f-a639-4b9e-dbfa-dea466ff9587"
      },
      "execution_count": 32,
      "outputs": [
        {
          "output_type": "stream",
          "name": "stdout",
          "text": [
            "[10, 4, 1, 56, 4]\n"
          ]
        }
      ]
    },
    {
      "cell_type": "code",
      "source": [
        "l = [1, 2, 3, 3, 5, 6, 7, 5]\n",
        "l.pop(5)\n",
        "print(l)"
      ],
      "metadata": {
        "colab": {
          "base_uri": "https://localhost:8080/"
        },
        "id": "aiDfW-uldk-l",
        "outputId": "c2ad591c-8289-4ab8-8977-df2457880d30"
      },
      "execution_count": 33,
      "outputs": [
        {
          "output_type": "stream",
          "name": "stdout",
          "text": [
            "[1, 2, 3, 3, 5, 7, 5]\n"
          ]
        }
      ]
    },
    {
      "cell_type": "code",
      "source": [
        "l = [1, 2, 3, 3, 5, 6, 7, 5]\n",
        "l.remove(5)\n",
        "print(l)"
      ],
      "metadata": {
        "colab": {
          "base_uri": "https://localhost:8080/"
        },
        "id": "w-vKmiNueLRx",
        "outputId": "90a43c83-75bb-43cf-d09c-1657b06ca5e4"
      },
      "execution_count": 34,
      "outputs": [
        {
          "output_type": "stream",
          "name": "stdout",
          "text": [
            "[1, 2, 3, 3, 6, 7, 5]\n"
          ]
        }
      ]
    },
    {
      "cell_type": "code",
      "source": [
        "l.pop(5)\n",
        "print(l)"
      ],
      "metadata": {
        "colab": {
          "base_uri": "https://localhost:8080/"
        },
        "id": "K933oi_6eS_h",
        "outputId": "8e8dfdd2-9e80-4631-e446-677bb517ed93"
      },
      "execution_count": 35,
      "outputs": [
        {
          "output_type": "stream",
          "name": "stdout",
          "text": [
            "[1, 2, 3, 3, 6, 5]\n"
          ]
        }
      ]
    },
    {
      "cell_type": "code",
      "source": [
        "x = int(input())\n",
        "print(x in l)"
      ],
      "metadata": {
        "colab": {
          "base_uri": "https://localhost:8080/"
        },
        "id": "2bwYHOugewnk",
        "outputId": "cc602713-a740-4450-d911-e83e0bfb9d70"
      },
      "execution_count": 37,
      "outputs": [
        {
          "output_type": "stream",
          "name": "stdout",
          "text": [
            "99\n",
            "False\n"
          ]
        }
      ]
    },
    {
      "cell_type": "code",
      "source": [
        "total =0\n",
        "l = [10,20,30,40,50,60]\n",
        "# for x in l:\n",
        "\n",
        "#   total+=x\n",
        "# print(total)\n",
        "print(sum(l))\n",
        ""
      ],
      "metadata": {
        "colab": {
          "base_uri": "https://localhost:8080/"
        },
        "id": "Hzs6x0eWgHmd",
        "outputId": "d5d2c7ef-6562-40f0-a902-7896242c1d08"
      },
      "execution_count": 46,
      "outputs": [
        {
          "output_type": "stream",
          "name": "stdout",
          "text": [
            "210\n"
          ]
        }
      ]
    },
    {
      "cell_type": "code",
      "source": [
        "l =[4,5,7,3,6,8,9]\n",
        "odds = []\n",
        "for x in l:\n",
        "  if x % 2 !=0:\n",
        "     odds.append(x)\n",
        "print(odds)"
      ],
      "metadata": {
        "colab": {
          "base_uri": "https://localhost:8080/"
        },
        "id": "x1YXLHNPgN4I",
        "outputId": "7b8bfdc8-af3f-41f4-a8a2-773d8c30a6fe"
      },
      "execution_count": 52,
      "outputs": [
        {
          "output_type": "stream",
          "name": "stdout",
          "text": [
            "[5, 7, 3, 9]\n"
          ]
        }
      ]
    },
    {
      "cell_type": "code",
      "source": [
        "print(max(l))"
      ],
      "metadata": {
        "colab": {
          "base_uri": "https://localhost:8080/"
        },
        "id": "d3NmTGqHhXmn",
        "outputId": "b3885b42-1ada-4cde-ad9b-e5c0a0bb0d5e"
      },
      "execution_count": 53,
      "outputs": [
        {
          "output_type": "stream",
          "name": "stdout",
          "text": [
            "9\n"
          ]
        }
      ]
    },
    {
      "cell_type": "code",
      "source": [
        "max = l[0]\n",
        "for x in l:\n",
        "  if x>=max:\n",
        "    max=x\n",
        "print(max)"
      ],
      "metadata": {
        "colab": {
          "base_uri": "https://localhost:8080/"
        },
        "id": "Bcnun9veil47",
        "outputId": "aff7f2d6-754e-4299-9d69-9798976b4efb"
      },
      "execution_count": 57,
      "outputs": [
        {
          "output_type": "stream",
          "name": "stdout",
          "text": [
            "9\n"
          ]
        }
      ]
    },
    {
      "cell_type": "code",
      "source": [],
      "metadata": {
        "id": "scyPxqt5iqY4"
      },
      "execution_count": null,
      "outputs": []
    }
  ]
}