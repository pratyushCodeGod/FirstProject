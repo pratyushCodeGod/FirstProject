{
  "nbformat": 4,
  "nbformat_minor": 0,
  "metadata": {
    "colab": {
      "provenance": [],
      "authorship_tag": "ABX9TyPFd99v33WirUm9K83lVHkR",
      "include_colab_link": true
    },
    "kernelspec": {
      "name": "python3",
      "display_name": "Python 3"
    },
    "language_info": {
      "name": "python"
    }
  },
  "cells": [
    {
      "cell_type": "markdown",
      "metadata": {
        "id": "view-in-github",
        "colab_type": "text"
      },
      "source": [
        "<a href=\"https://colab.research.google.com/github/pratyushCodeGod/FirstProject/blob/Scaler/List1(day9)%20question5.ipynb\" target=\"_parent\"><img src=\"https://colab.research.google.com/assets/colab-badge.svg\" alt=\"Open In Colab\"/></a>"
      ]
    },
    {
      "cell_type": "code",
      "execution_count": null,
      "metadata": {
        "id": "-vecODmhAom6"
      },
      "outputs": [],
      "source": [
        "# Problem Description\n",
        "\n",
        "# Write a program to print sum of elements of the input array A of size N.\n",
        "\n",
        "# Note: the size element is removed from the list passed as input to the function main, that is only elements are present. User is supposed to add them up and return the result\n",
        "\n",
        "\n",
        "# Problem Constraints\n",
        "\n",
        "# 1 <= N <= 1000\n",
        "\n",
        "# 1 <= A <= 1000\n",
        "\n",
        "\n",
        "\n",
        "# Input Format\n",
        "\n",
        "# A list of length N\n",
        "\n",
        "\n",
        "\n",
        "# Output Format\n",
        "\n",
        "# A single integer containing sum of elements from the input array.\n",
        "\n",
        "\n",
        "\n",
        "# Example Input\n",
        "\n",
        "# Input 1:\n",
        "\n",
        "# 5 1 2 3 4 5\n",
        "# Input 2:\n",
        "\n",
        "# 4 10 50 40 80\n",
        "\n",
        "\n",
        "# Example Output\n",
        "\n",
        "# Output 1:\n",
        "\n",
        "# 15\n",
        "# Output 2:\n",
        "\n",
        "# 180\n",
        "\n",
        "# Sample Explanation:\n",
        "\n",
        "# Input-1:\n",
        "# A = [5, 1, 2, 3, 4, 5]\n",
        "# here the first element is the size of A and the remaining elements are [1, 2, 3, 4, 5]\n",
        "# which all sum to 15\n",
        "\n",
        "# Input-1:\n",
        "# A = [4, 10, 50, 40, 80]\n",
        "# here the first element is the size of A and the remaining elements are [10, 50, 40, 80]\n",
        "# which all sum to 180\n",
        "# Python 3 (Python-3.8)\n",
        "# 123456"
      ]
    },
    {
      "cell_type": "code",
      "source": [
        "def calculate_sum(input_list):\n",
        "    ans = 0\n",
        "    N = len(input_list)\n",
        "\n",
        "    for i in range(N):\n",
        "        ans += input_list[i]\n",
        "    print(ans)\n",
        "\n",
        "# Example Usage\n",
        "input_list = [1, 2, 3, 4, 5]  # Replace this with your list of integers\n",
        "calculate_sum(input_list)"
      ],
      "metadata": {
        "colab": {
          "base_uri": "https://localhost:8080/"
        },
        "id": "zyGt6ps8AwbF",
        "outputId": "60e18b4f-4afe-4a50-f81c-9cbc61be585d"
      },
      "execution_count": 1,
      "outputs": [
        {
          "output_type": "stream",
          "name": "stdout",
          "text": [
            "15\n"
          ]
        }
      ]
    }
  ]
}