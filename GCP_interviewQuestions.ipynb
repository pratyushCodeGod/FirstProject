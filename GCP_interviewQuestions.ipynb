{
  "nbformat": 4,
  "nbformat_minor": 0,
  "metadata": {
    "colab": {
      "provenance": [],
      "toc_visible": true,
      "authorship_tag": "ABX9TyOVG2o5QGnEd04fB0aknqa+",
      "include_colab_link": true
    },
    "kernelspec": {
      "name": "python3",
      "display_name": "Python 3"
    },
    "language_info": {
      "name": "python"
    }
  },
  "cells": [
    {
      "cell_type": "markdown",
      "metadata": {
        "id": "view-in-github",
        "colab_type": "text"
      },
      "source": [
        "<a href=\"https://colab.research.google.com/github/pratyushCodeGod/FirstProject/blob/main/GCP_interviewQuestions.ipynb\" target=\"_parent\"><img src=\"https://colab.research.google.com/assets/colab-badge.svg\" alt=\"Open In Colab\"/></a>"
      ]
    },
    {
      "cell_type": "markdown",
      "source": [
        "count duplicated\n",
        "Xcomm\n",
        "SCD2 : set flag 1 for create date and 0 for previous rcords to query"
      ],
      "metadata": {
        "id": "tJNVmRJ-MpxS"
      }
    },
    {
      "cell_type": "markdown",
      "source": [
        "count duplicates sql query use group by and count for similar queries\n",
        "get maximum of 3 number in 3 rows\n",
        "Xcom used by oogle airflow\n",
        "SCD type 2using flag 1 for active record and 0 for previous unactive records"
      ],
      "metadata": {
        "id": "VyBnTka_OVkb"
      }
    }
  ]
}