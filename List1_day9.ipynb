{
  "nbformat": 4,
  "nbformat_minor": 0,
  "metadata": {
    "colab": {
      "provenance": [],
      "authorship_tag": "ABX9TyMASZe3myVTkwKbXNtKL9+3",
      "include_colab_link": true
    },
    "kernelspec": {
      "name": "python3",
      "display_name": "Python 3"
    },
    "language_info": {
      "name": "python"
    }
  },
  "cells": [
    {
      "cell_type": "markdown",
      "metadata": {
        "id": "view-in-github",
        "colab_type": "text"
      },
      "source": [
        "<a href=\"https://colab.research.google.com/github/pratyushCodeGod/FirstProject/blob/Scaler/List1_day9.ipynb\" target=\"_parent\"><img src=\"https://colab.research.google.com/assets/colab-badge.svg\" alt=\"Open In Colab\"/></a>"
      ]
    },
    {
      "cell_type": "code",
      "execution_count": null,
      "metadata": {
        "id": "mSkhHVDqmFVB"
      },
      "outputs": [],
      "source": [
        "#Q 6. Write a program to input N numbers array, A from the user and an integer X and print the array by deleting element at specified position X.\n",
        "\n",
        "# Note: The first element is located at position 1, the second element is located at position 2, and so on.\n",
        "\n",
        "\n",
        "# Problem Constraints\n",
        "# 2 <= N <= 100\n",
        "# 1 <= A[i] <= 1000\n",
        "# 1 <= X <= N\n",
        "\n",
        "\n",
        "# Input Format\n",
        "# First line is N which means number of elements.\n",
        "# Second line contains N space separated integers.\n",
        "# Third line is X position which has to be deleted.\n",
        "\n",
        "\n",
        "# Output Format\n",
        "# N-1 space separated integers of the input array after deleting the element at required position.\n",
        "\n",
        "\n",
        "# Example Input\n",
        "# Input 1:\n",
        "# 5\n",
        "# 2 3 1 4 2\n",
        "# 3\n",
        "# Input 2:\n",
        "# 2\n",
        "# 4 5\n",
        "# 2\n",
        "\n",
        "\n",
        "# Example Output\n",
        "# Output 1:\n",
        "# 2 3 4 2\n",
        "# Output 2:\n",
        "# 4\n",
        "\n",
        "\n",
        "# Example Explanation\n",
        "# Explanation 1:\n",
        "# Clearly after removing the element at position 3 (2 3 1 4 2), the remaining array is 2 3 4 2.\n",
        "# Explanation 2:\n",
        "# After removing the element at position 2 (4 5), the remaining array is 4."
      ]
    },
    {
      "cell_type": "code",
      "source": [
        "def main():\n",
        "    N = int(input())\n",
        "    A = list(map(int,input().split()))\n",
        "    X = int(input())\n",
        "    A.pop(X-1)\n",
        "    for i in A:\n",
        "        print(i, end = ' ')\n",
        "    print()\n",
        "\n",
        "    return 0\n",
        "\n",
        "main()\n",
        "\n",
        "def main():\n",
        "    A = []\n",
        "    N = int(input())  # Number of elements in the list\n",
        "\n",
        "    A = list(map(int,input().split()))  # Read each element as an integer\n",
        "\n",
        "\n",
        "    X = int(input())  # Index to remove\n",
        "\n",
        "    if 0 < X <= len(A):\n",
        "        A.pop(X - 1)  # Remove the element at index X - 1\n",
        "        for i in A:\n",
        "            print(i, end=\" \")\n",
        "    else:\n",
        "        print(\"Error: Invalid index\")\n",
        "\n",
        "if __name__ == '__main__':\n",
        "    main()\n"
      ],
      "metadata": {
        "id": "x2c7LCc3meQq"
      },
      "execution_count": null,
      "outputs": []
    }
  ]
}