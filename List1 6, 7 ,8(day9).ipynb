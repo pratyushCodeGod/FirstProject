{
  "nbformat": 4,
  "nbformat_minor": 0,
  "metadata": {
    "colab": {
      "provenance": [],
      "authorship_tag": "ABX9TyPXg6BCIx4D8hPMRUegnNZv",
      "include_colab_link": true
    },
    "kernelspec": {
      "name": "python3",
      "display_name": "Python 3"
    },
    "language_info": {
      "name": "python"
    }
  },
  "cells": [
    {
      "cell_type": "markdown",
      "metadata": {
        "id": "view-in-github",
        "colab_type": "text"
      },
      "source": [
        "<a href=\"https://colab.research.google.com/github/pratyushCodeGod/FirstProject/blob/Scaler/List1%206%2C%207%20%2C8(day9).ipynb\" target=\"_parent\"><img src=\"https://colab.research.google.com/assets/colab-badge.svg\" alt=\"Open In Colab\"/></a>"
      ]
    },
    {
      "cell_type": "code",
      "execution_count": null,
      "metadata": {
        "id": "VGhDeb7cPgvT"
      },
      "outputs": [],
      "source": [
        "#q6 Write a program to input N numbers array, A from the user and an integer X and print the array by deleting element at specified position X.\n",
        "\n",
        "# Note: The first element is located at position 1, the second element is located at position 2, and so on.\n",
        "\n",
        "\n",
        "# Problem Constraints\n",
        "# 2 <= N <= 100\n",
        "# 1 <= A[i] <= 1000\n",
        "# 1 <= X <= N\n",
        "\n",
        "\n",
        "# Input Format\n",
        "# First line is N which means number of elements.\n",
        "# Second line contains N space separated integers.\n",
        "# Third line is X position which has to be deleted.\n",
        "\n",
        "\n",
        "# Output Format\n",
        "# N-1 space separated integers of the input array after deleting the element at required position.\n",
        "\n",
        "\n",
        "# Example Input\n",
        "# Input 1:\n",
        "# 5\n",
        "# 2 3 1 4 2\n",
        "# 3\n",
        "# Input 2:\n",
        "# 2\n",
        "# 4 5\n",
        "# 2\n",
        "\n",
        "\n",
        "# Example Output\n",
        "# Output 1:\n",
        "# 2 3 4 2\n",
        "# Output 2:\n",
        "# 4\n",
        "\n",
        "\n",
        "# Example Explanation\n",
        "# Explanation 1:\n",
        "# Clearly after removing the element at position 3 (2 3 1 4 2), the remaining array is 2 3 4 2.\n",
        "# Explanation 2:\n",
        "# After removing the element at position 2 (4 5), the remaining array is 4.\n"
      ]
    },
    {
      "cell_type": "code",
      "source": [
        "def main():\n",
        "\n",
        "    N = int(input())\n",
        "    A = list(map(int,input().split()))\n",
        "    X = int(input())\n",
        "    # A = A.split(\" \")\n",
        "    # C = \"\"\n",
        "    B = []\n",
        "\n",
        "    for i in range(N) :\n",
        "         B.append(int(i))\n",
        "\n",
        "    B =\n",
        "\n",
        "    for num in B:\n",
        "        print(i, end=' ')\n",
        "    #A = map(int,A)\n",
        "    # A = B.split(\",\")\n",
        "\n",
        "    return 0\n",
        "if __name__ == '__main__':\n",
        "    main()"
      ],
      "metadata": {
        "id": "gdbk2p3wPymv"
      },
      "execution_count": null,
      "outputs": []
    },
    {
      "cell_type": "code",
      "source": [
        "# Write a program to input N numbers array, a number X and a number Y from user and insert an element Y in it at specified position X. X is based on 1-based indexing\n",
        "\n",
        "# Note: When an element is inserted at position X, all elements that were already present at position >= X, gets shifted to one position right, not replaced.\n",
        "\n",
        "# Problem Constraints\n",
        "\n",
        "# 1 <= N <= 100\n",
        "\n",
        "# 1 <= A[i] <= 1000\n",
        "\n",
        "# 1 <= X <= N\n",
        "\n",
        "# 1 <= Y <= 1000\n",
        "\n",
        "# Input Format\n",
        "\n",
        "# First line is N which represents number of elements.\n",
        "\n",
        "# Second line contains N space separated integers.\n",
        "\n",
        "# Third line is X position where Y has to be inserted.\n",
        "\n",
        "# Fourth line is Y which is the value to be inserted.\n",
        "\n",
        "# Output Format\n",
        "\n",
        "# N+1 space separated integers of the input array after inserting the element at required position.\n",
        "\n",
        "# Example Input\n",
        "\n",
        "# Input 1:\n",
        "\n",
        "# 5\n",
        "\n",
        "# 2 3 1 4 2\n",
        "\n",
        "# 3\n",
        "\n",
        "# 5\n",
        "\n",
        "# Example Output\n",
        "\n",
        "# Output 1:\n",
        "\n",
        "# 2 3 5 1 4 2\n",
        "\n",
        "# Example Explanation\n",
        "\n",
        "# Explanation 1:\n",
        "\n",
        "# Clearly after inserting 5 at 3rd position, new array is 2 3 5 1 4 2.\n",
        "\n"
      ],
      "metadata": {
        "id": "puPWTkoIP1XS"
      },
      "execution_count": null,
      "outputs": []
    },
    {
      "cell_type": "code",
      "source": [
        "def main():\n",
        "    N = int(input())\n",
        "    A = list(map(int,input().split()))\n",
        "    X = int(input())\n",
        "    Y = int(input())\n",
        "\n",
        "    if X<len(A):\n",
        "        A.insert(X-1,Y)\n",
        "    for i in A:\n",
        "        print(i,end = ' ')\n",
        "\n",
        "\n",
        "\n",
        "\n",
        "    # YOUR CODE GOES HERE\n",
        "    # Please take input and print output to standard input/output (stdin/stdout)\n",
        "    # E.g. 'input()/raw_input()' for input & 'print' for output\n",
        "\n",
        "    return 0\n",
        "\n",
        "if __name__ == '__main__':\n",
        "    main()"
      ],
      "metadata": {
        "id": "0X9JYJLOP_u1"
      },
      "execution_count": null,
      "outputs": []
    },
    {
      "cell_type": "code",
      "source": [],
      "metadata": {
        "id": "xjIG5_NlQB-X"
      },
      "execution_count": null,
      "outputs": []
    },
    {
      "cell_type": "code",
      "source": [
        "\n",
        "\n",
        "# Write a program to print the input array A of size N in reverse order where you have to take integer N and further N elements as input from user.\n",
        "\n",
        "\n",
        "# Problem Constraints\n",
        "\n",
        "# 1 <= N <= 1000\n",
        "\n",
        "# 1 <= A <= 1000\n",
        "# Input Format\n",
        "\n",
        "# A single line representing N followed by N integers of the array A\n",
        "\n",
        "# Output Format\n",
        "\n",
        "# A single line containing N space separated integers representing elements of the input array in reverse order.\n",
        "\n",
        "# Example Input\n",
        "\n",
        "# Input 1:\n",
        "\n",
        "# 5 1 2 3 4 5\n",
        "# Input 2:\n",
        "\n",
        "# 4 10 50 40 80\n",
        "\n",
        "# Example Output\n",
        "\n",
        "# Output 1:\n",
        "\n",
        "# 5 4 3 2 1\n",
        "# Output 2:\n",
        "\n",
        "# 80 40 50 10\n",
        "\n",
        "\n",
        "\n",
        "# Python 3 (Python-3.8)\n"
      ],
      "metadata": {
        "id": "n6TRypgjQCGm"
      },
      "execution_count": null,
      "outputs": []
    },
    {
      "cell_type": "code",
      "source": [
        "def main():\n",
        "\n",
        "    B = []\n",
        "\n",
        "    # N = int(input())\n",
        "\n",
        "    A= list(map(int,input().split()))\n",
        "\n",
        "    N=A[0]\n",
        "\n",
        "    for i in range(N,0,-1):\n",
        "\n",
        "        B.append(A[i])\n",
        "\n",
        "    for i in B:\n",
        "\n",
        "        print(i, end = ' ')\n",
        "\n",
        "    return 0\n",
        "\n",
        "if __name__ == '__main__':\n",
        "\n",
        "    main()"
      ],
      "metadata": {
        "id": "BcBVWwgaQHft"
      },
      "execution_count": null,
      "outputs": []
    },
    {
      "cell_type": "code",
      "source": [],
      "metadata": {
        "id": "ZZ8kgZPlQHpC"
      },
      "execution_count": null,
      "outputs": []
    }
  ]
}