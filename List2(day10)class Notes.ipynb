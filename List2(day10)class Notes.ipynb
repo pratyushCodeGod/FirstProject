{
  "nbformat": 4,
  "nbformat_minor": 0,
  "metadata": {
    "colab": {
      "provenance": [],
      "authorship_tag": "ABX9TyO2AlueQMt5iwZnrDMIzRQp",
      "include_colab_link": true
    },
    "kernelspec": {
      "name": "python3",
      "display_name": "Python 3"
    },
    "language_info": {
      "name": "python"
    }
  },
  "cells": [
    {
      "cell_type": "markdown",
      "metadata": {
        "id": "view-in-github",
        "colab_type": "text"
      },
      "source": [
        "<a href=\"https://colab.research.google.com/github/pratyushCodeGod/FirstProject/blob/Scaler/List2(day10)class%20Notes.ipynb\" target=\"_parent\"><img src=\"https://colab.research.google.com/assets/colab-badge.svg\" alt=\"Open In Colab\"/></a>"
      ]
    },
    {
      "cell_type": "code",
      "execution_count": 3,
      "metadata": {
        "colab": {
          "base_uri": "https://localhost:8080/"
        },
        "id": "QZHkVIZAh92v",
        "outputId": "ae0175c8-550e-4ead-d575-3a7e36297e64"
      },
      "outputs": [
        {
          "output_type": "stream",
          "name": "stdout",
          "text": [
            "1\n"
          ]
        }
      ],
      "source": [
        "l = [10,20,30,20,30]\n",
        "idx = l.index(20)\n",
        "print(idx)"
      ]
    },
    {
      "cell_type": "markdown",
      "source": [
        "//Count function"
      ],
      "metadata": {
        "id": "rMPpHRYYjDiS"
      }
    },
    {
      "cell_type": "code",
      "source": [
        "print(l.count(20))"
      ],
      "metadata": {
        "colab": {
          "base_uri": "https://localhost:8080/"
        },
        "id": "cva7D8ljjHX4",
        "outputId": "24ddcf3c-f2d3-495c-8584-736c28ec3cda"
      },
      "execution_count": 5,
      "outputs": [
        {
          "output_type": "stream",
          "name": "stdout",
          "text": [
            "2\n"
          ]
        }
      ]
    },
    {
      "cell_type": "code",
      "source": [
        "# print(l.count())"
      ],
      "metadata": {
        "id": "-dewP8gHjxc4"
      },
      "execution_count": null,
      "outputs": []
    },
    {
      "cell_type": "code",
      "source": [
        "print(list(\"hello\"))"
      ],
      "metadata": {
        "colab": {
          "base_uri": "https://localhost:8080/"
        },
        "id": "gUCwHBfZjsQt",
        "outputId": "83120a9b-6eb8-4324-d417-68b0bbbbe356"
      },
      "execution_count": 7,
      "outputs": [
        {
          "output_type": "stream",
          "name": "stdout",
          "text": [
            "['h', 'e', 'l', 'l', 'o']\n"
          ]
        }
      ]
    },
    {
      "cell_type": "code",
      "source": [
        "s = \"hello world\"\n",
        "t = s.split()\n",
        "print(t)"
      ],
      "metadata": {
        "colab": {
          "base_uri": "https://localhost:8080/"
        },
        "id": "50eZ4oA2kdoL",
        "outputId": "d929873b-9334-4b9e-dba1-8ddae6815c5d"
      },
      "execution_count": 9,
      "outputs": [
        {
          "output_type": "stream",
          "name": "stdout",
          "text": [
            "['hello', 'world']\n"
          ]
        }
      ]
    },
    {
      "cell_type": "code",
      "source": [
        "s = \"hello world how r u\"\n",
        "t = s.split()\n",
        "print(t)"
      ],
      "metadata": {
        "colab": {
          "base_uri": "https://localhost:8080/"
        },
        "id": "XI1m8RV-k73U",
        "outputId": "72904c90-1583-4dc8-8892-2ec9247f84e7"
      },
      "execution_count": 10,
      "outputs": [
        {
          "output_type": "stream",
          "name": "stdout",
          "text": [
            "['hello', 'world', 'hwo', 'r', 'u']\n"
          ]
        }
      ]
    },
    {
      "cell_type": "code",
      "source": [
        "n = int(input())\n",
        "l =[10,20,30,20,30]\n",
        "for i in range(n):\n",
        "  l[i] = int(l[i])\n",
        "print(l)"
      ],
      "metadata": {
        "colab": {
          "base_uri": "https://localhost:8080/"
        },
        "id": "c5mwxpTDlqvm",
        "outputId": "84aa1c5c-e7bb-4a28-bbac-3e6329c2f13f"
      },
      "execution_count": 14,
      "outputs": [
        {
          "output_type": "stream",
          "name": "stdout",
          "text": [
            "4\n",
            "[10, 20, 30, 20, 30]\n"
          ]
        }
      ]
    },
    {
      "cell_type": "code",
      "source": [
        "#Split function by default create List"
      ],
      "metadata": {
        "id": "G1bpRjf2oi7p"
      },
      "execution_count": null,
      "outputs": []
    },
    {
      "cell_type": "markdown",
      "source": [
        "//Slicing"
      ],
      "metadata": {
        "id": "vZctA0kPuIA9"
      }
    },
    {
      "cell_type": "code",
      "source": [
        "l = [10,20,30,40,4,3]\n",
        "print(l[1:4])"
      ],
      "metadata": {
        "colab": {
          "base_uri": "https://localhost:8080/"
        },
        "id": "68JIC8Y2uRl4",
        "outputId": "572db7e6-34e5-43b3-ac4e-4a3588c1c21f"
      },
      "execution_count": 15,
      "outputs": [
        {
          "output_type": "stream",
          "name": "stdout",
          "text": [
            "[20, 30, 40]\n"
          ]
        }
      ]
    },
    {
      "cell_type": "code",
      "source": [
        "print(l[1:5:2])"
      ],
      "metadata": {
        "colab": {
          "base_uri": "https://localhost:8080/"
        },
        "id": "jILqcKuDvCSQ",
        "outputId": "366b09cf-70a8-4299-b879-ac95d6a7d88b"
      },
      "execution_count": 16,
      "outputs": [
        {
          "output_type": "stream",
          "name": "stdout",
          "text": [
            "[20, 40]\n"
          ]
        }
      ]
    },
    {
      "cell_type": "code",
      "source": [
        "print(l[0:5:1])"
      ],
      "metadata": {
        "colab": {
          "base_uri": "https://localhost:8080/"
        },
        "id": "VkQrHEynwSmp",
        "outputId": "9ec321bd-e427-4b7a-8abd-8b3074fad009"
      },
      "execution_count": 18,
      "outputs": [
        {
          "output_type": "stream",
          "name": "stdout",
          "text": [
            "[10, 20, 30, 40, 4]\n"
          ]
        }
      ]
    },
    {
      "cell_type": "code",
      "source": [
        "print(l[:4])"
      ],
      "metadata": {
        "colab": {
          "base_uri": "https://localhost:8080/"
        },
        "id": "TBc0HMiUwSws",
        "outputId": "cff55ec5-02ea-438f-b3a9-d26f4795687c"
      },
      "execution_count": 20,
      "outputs": [
        {
          "output_type": "stream",
          "name": "stdout",
          "text": [
            "[10, 20, 30, 40]\n"
          ]
        }
      ]
    },
    {
      "cell_type": "code",
      "source": [
        "print(l[2:])"
      ],
      "metadata": {
        "colab": {
          "base_uri": "https://localhost:8080/"
        },
        "id": "yGOOPldhxTFo",
        "outputId": "f22ee046-4101-404d-efcf-0e9d6eb63687"
      },
      "execution_count": 21,
      "outputs": [
        {
          "output_type": "stream",
          "name": "stdout",
          "text": [
            "[30, 40, 4, 3]\n"
          ]
        }
      ]
    },
    {
      "cell_type": "code",
      "source": [
        "l = [2, 4, 5, 7, 8]\n",
        "print(l[5:0])"
      ],
      "metadata": {
        "colab": {
          "base_uri": "https://localhost:8080/"
        },
        "id": "eJ-s_PGDyeze",
        "outputId": "0ab4b285-d9d9-44c4-bb2f-10eb6adcea7e"
      },
      "execution_count": 22,
      "outputs": [
        {
          "output_type": "stream",
          "name": "stdout",
          "text": [
            "[]\n"
          ]
        }
      ]
    },
    {
      "cell_type": "code",
      "source": [
        "print(l[4:1:-2])"
      ],
      "metadata": {
        "colab": {
          "base_uri": "https://localhost:8080/"
        },
        "id": "u37tyExV1mFo",
        "outputId": "b0e8c451-3308-49cd-e12c-f7475ee68480"
      },
      "execution_count": 23,
      "outputs": [
        {
          "output_type": "stream",
          "name": "stdout",
          "text": [
            "[8, 5]\n"
          ]
        }
      ]
    },
    {
      "cell_type": "markdown",
      "source": [
        "//reverse by slicing"
      ],
      "metadata": {
        "id": "DjOrplk75kis"
      }
    },
    {
      "cell_type": "code",
      "source": [
        "print(l[::-1])"
      ],
      "metadata": {
        "colab": {
          "base_uri": "https://localhost:8080/"
        },
        "id": "hVSP2xAW5n2M",
        "outputId": "d64a6371-da22-4d5b-c647-66a5924bab0b"
      },
      "execution_count": 27,
      "outputs": [
        {
          "output_type": "stream",
          "name": "stdout",
          "text": [
            "[8, 7, 5, 4, 2]\n"
          ]
        }
      ]
    },
    {
      "cell_type": "code",
      "source": [
        "print(l[5:0:-3])"
      ],
      "metadata": {
        "colab": {
          "base_uri": "https://localhost:8080/"
        },
        "id": "InkpAPXr1vtB",
        "outputId": "8ec7aef7-38fe-4aa9-d484-6dee110f84ef"
      },
      "execution_count": 25,
      "outputs": [
        {
          "output_type": "stream",
          "name": "stdout",
          "text": [
            "[8, 4]\n"
          ]
        }
      ]
    },
    {
      "cell_type": "code",
      "source": [
        "print(l[3:1:-1])"
      ],
      "metadata": {
        "colab": {
          "base_uri": "https://localhost:8080/"
        },
        "id": "HrdSlYVn18VS",
        "outputId": "8b7f68d4-8992-4667-c31f-3a8b7de5df59"
      },
      "execution_count": 26,
      "outputs": [
        {
          "output_type": "stream",
          "name": "stdout",
          "text": [
            "[7, 5]\n"
          ]
        }
      ]
    }
  ]
}